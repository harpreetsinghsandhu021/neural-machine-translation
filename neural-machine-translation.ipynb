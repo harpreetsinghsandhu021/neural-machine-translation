{
 "cells": [
  {
   "cell_type": "markdown",
   "id": "c48aaaae-ec08-497f-9c13-f493092d4dcd",
   "metadata": {},
   "source": [
    "# Neural machine translation with attention"
   ]
  },
  {
   "cell_type": "markdown",
   "id": "1a04d759-e550-46f1-a8b5-8e0004c1ef4c",
   "metadata": {},
   "source": [
    "This tutorial demonstrates how to train a sequence-to-sequence (seq2seq) model for Spanish-to-English translation"
   ]
  },
  {
   "cell_type": "markdown",
   "id": "a2b3bfef-ed8f-4824-85ee-1d4fe9d8282c",
   "metadata": {},
   "source": [
    "## Installing Dependencies"
   ]
  },
  {
   "cell_type": "markdown",
   "id": "6e738669-4ecc-45ba-96d3-a7046da32574",
   "metadata": {},
   "source": [
    "## Import Dependencies"
   ]
  },
  {
   "cell_type": "code",
   "execution_count": 1,
   "id": "adef9751-efab-41ae-a76e-4a582aa43ddc",
   "metadata": {},
   "outputs": [],
   "source": [
    "import numpy as np \n",
    "import typing \n",
    "from typing import Any, Tuple\n",
    "\n",
    "import einops\n",
    "import matplotlib.pyplot as plt \n",
    "import matplotlib.ticker as ticker\n",
    "\n",
    "import tensorflow as tf \n",
    "import tensorflow_text as tf_text \n",
    "\n",
    "from utils import ShapeChecker"
   ]
  },
  {
   "cell_type": "code",
   "execution_count": 2,
   "id": "ae98f670-6e79-41d6-85db-bb28fcf42710",
   "metadata": {},
   "outputs": [
    {
     "data": {
      "text/plain": [
       "[]"
      ]
     },
     "execution_count": 2,
     "metadata": {},
     "output_type": "execute_result"
    }
   ],
   "source": [
    "tf.config.list_physical_devices('GPU')"
   ]
  },
  {
   "cell_type": "markdown",
   "id": "6c6f0fc1-d3e5-4104-8d0b-ed78b48c4d1f",
   "metadata": {},
   "source": [
    "## Download Data"
   ]
  },
  {
   "cell_type": "code",
   "execution_count": 3,
   "id": "438f6e23-0662-4db9-a671-e5346660628e",
   "metadata": {},
   "outputs": [],
   "source": [
    "import pathlib\n",
    "\n",
    "path_to_zip = tf.keras.utils.get_file(\n",
    "    'spa-eng.zip', origin='http://storage.googleapis.com/download.tensorflow.org/data/spa-eng.zip', extract=True\n",
    ")\n",
    "\n",
    "# `pathlib.Path(path_to_zip)` converts the path_to_zip string into a Path object\n",
    "# `.parent` navigates to the parent directory of the current path \n",
    "# `/'spa-eng/spa.txt'` Uses the / operator to the parent directory path with 'spa-eng/spa.txt'\n",
    "path_to_file = pathlib.Path(path_to_zip).parent/'spa-eng/spa.txt'"
   ]
  },
  {
   "cell_type": "code",
   "execution_count": 4,
   "id": "633e0a35-7f61-4013-a38e-202ce37ad2b5",
   "metadata": {},
   "outputs": [],
   "source": [
    "def load_data(path): \n",
    "    text = path.read_text(encoding='utf-8')\n",
    "\n",
    "    lines = text.splitlines()\n",
    "    pairs = [line.split('\\t') for line in lines]\n",
    "\n",
    "    context = np.array([context for target, context in pairs])\n",
    "    target = np.array([target for target, context in pairs])\n",
    "\n",
    "    return target, context"
   ]
  },
  {
   "cell_type": "code",
   "execution_count": 5,
   "id": "b0e89e87-c07f-44b3-8d77-0aa2545b6732",
   "metadata": {},
   "outputs": [
    {
     "name": "stdout",
     "output_type": "stream",
     "text": [
      "Si quieres sonar como un hablante nativo, debes estar dispuesto a practicar diciendo la misma frase una y otra vez de la misma manera en que un músico de banjo practica el mismo fraseo una y otra vez hasta que lo puedan tocar correctamente y en el tiempo esperado.\n"
     ]
    }
   ],
   "source": [
    "target_raw, context_raw = load_data(path_to_file)\n",
    "print(context_raw[-1])"
   ]
  },
  {
   "cell_type": "code",
   "execution_count": 6,
   "id": "8043a69b-a018-46f2-9627-25d68b99193a",
   "metadata": {},
   "outputs": [
    {
     "name": "stdout",
     "output_type": "stream",
     "text": [
      "If you want to sound like a native speaker, you must be willing to practice saying the same sentence over and over in the same way that banjo players practice the same phrase over and over until they can play it correctly and at the desired tempo.\n"
     ]
    }
   ],
   "source": [
    "print(target_raw[-1])"
   ]
  },
  {
   "cell_type": "markdown",
   "id": "6b3d155e-f67b-47c6-961e-6f72d1bad3da",
   "metadata": {},
   "source": [
    "## Create a tf.data dataset"
   ]
  },
  {
   "cell_type": "markdown",
   "id": "7f52369e-f415-4f9a-aebb-1d77081a435d",
   "metadata": {},
   "source": [
    "From these arrays of strings you can create a tf.data.Dataset of strings that shuffles and batches them efficiently"
   ]
  },
  {
   "cell_type": "code",
   "execution_count": 7,
   "id": "ef182293-6fa5-497c-83f9-23053fd7ad37",
   "metadata": {},
   "outputs": [
    {
     "data": {
      "text/plain": [
       "True"
      ]
     },
     "execution_count": 7,
     "metadata": {},
     "output_type": "execute_result"
    }
   ],
   "source": [
    "BUFFER_SIZE = len(context_raw)\n",
    "BATCH_SIZE = 64\n",
    "\n",
    "# Generates an array of random numbers\n",
    "# Each number is uniformly distributed between 0 and 1 \n",
    "# The size of the array matches the length of target_raw \n",
    "# Practical meaning:\n",
    "# Randomly splits data into train and test sets\n",
    "# Approximately 80% of the data will be True (for training)\n",
    "# Approximately 20% of the data will be False (for testing)\n",
    "is_train = np.random.uniform(size=(len(target_raw),)) < 0.8\n",
    "\n",
    "is_train[0]"
   ]
  },
  {
   "cell_type": "code",
   "execution_count": 8,
   "id": "e4902331-395c-4324-ae3a-ac3284b28eae",
   "metadata": {},
   "outputs": [],
   "source": [
    "train_raw = (\n",
    "    tf.data.Dataset.from_tensor_slices((context_raw[is_train], target_raw[is_train])) # creates tensorflow dataset, uses is_train boolean mask to select training data\n",
    "    .shuffle(BUFFER_SIZE) # randomly shuffles data, helps prevent model from learning order-specific patterns, improves model generalization\n",
    "    .batch(BATCH_SIZE) # splits data into fixed-size batches, allows effifcient paraller processing during training, helps in gradient descent optimizaition\n",
    ")\n",
    "\n",
    "val_raw = (\n",
    "    tf.data.Dataset.from_tensor_slices((context_raw[~is_train], target_raw[~is_train])) # creates tensorflow dataset, Uses the boolean mask to pick data points NOT selected for training\n",
    "    .shuffle(BUFFER_SIZE) # randomly shuffles data, helps prevent model from learning order-specific patterns, improves model generalization\n",
    "    .batch(BATCH_SIZE) # splits data into fixed-size batches, allows effifcient paraller processing during training, helps in gradient descent optimizaition\n",
    ")"
   ]
  },
  {
   "cell_type": "code",
   "execution_count": 9,
   "id": "3e72cc5d-cab9-405b-bff2-205611ad6fdc",
   "metadata": {},
   "outputs": [
    {
     "name": "stdout",
     "output_type": "stream",
     "text": [
      "tf.Tensor(\n",
      "[b'Abandona mientras puedes.' b'En ese momento estaba viendo la tele.'\n",
      " b'Pienso que esto es realmente excitante.'\n",
      " b'Has lo que te dicte tu coraz\\xc3\\xb3n.' b'Llamen a una ambulancia.'], shape=(5,), dtype=string)\n",
      "\n",
      "tf.Tensor(\n",
      "[b'Leave while you can.' b'I was watching TV then.'\n",
      " b'I think this is really exciting.' b'Do as your heart dictates.'\n",
      " b'Call an ambulance.'], shape=(5,), dtype=string)\n"
     ]
    }
   ],
   "source": [
    "for example_context_strings, example_target_strings in train_raw.take(1):\n",
    "  print(example_context_strings[:5])\n",
    "  print()\n",
    "  print(example_target_strings[:5])\n",
    "  break"
   ]
  },
  {
   "cell_type": "markdown",
   "id": "a29ad5cb-a0f3-468e-8df7-74fb14a7c477",
   "metadata": {},
   "source": [
    "## Text Preprocessing "
   ]
  },
  {
   "cell_type": "markdown",
   "id": "1a94451c-57f3-4b79-abdb-06dcbd2ff7ef",
   "metadata": {},
   "source": [
    "One of the goals of this tutorial is to build a model that can be exported as a tf.saved_model. To make that exported model useful it should take tf.string inputs, and return tf.string outputs: All the text processing happens inside the model. Mainly using a layers.TextVectorization layer."
   ]
  },
  {
   "cell_type": "markdown",
   "id": "0ea8d214-81ff-4d77-b398-7e96812b8e8b",
   "metadata": {},
   "source": [
    "### Standarization"
   ]
  },
  {
   "cell_type": "markdown",
   "id": "f1c6e014-cb55-4942-978d-6e4b190e7aa2",
   "metadata": {},
   "source": [
    "The model is dealing with multilingual text with a limited vocabulary. So it will be important to standardize the input text.\n",
    "The first step is Unicode normalization to split accented characters and replace compatibility characters with their ASCII equivalents."
   ]
  },
  {
   "cell_type": "code",
   "execution_count": 10,
   "id": "fde8ded1-7975-44ab-b96e-5d3474ee06a5",
   "metadata": {},
   "outputs": [
    {
     "name": "stdout",
     "output_type": "stream",
     "text": [
      "b'\\xc2\\xbfTodav\\xc3\\xada est\\xc3\\xa1 en casa?'\n",
      "b'\\xc2\\xbfTodavi\\xcc\\x81a esta\\xcc\\x81 en casa?'\n"
     ]
    }
   ],
   "source": [
    "example = tf.constant('¿Todavía está en casa?')\n",
    "print(example.numpy())\n",
    "print(tf_text.normalize_utf8(example, 'NFKD').numpy())"
   ]
  },
  {
   "cell_type": "markdown",
   "id": "127ec12a-51c8-4e02-afb5-802738b541da",
   "metadata": {},
   "source": [
    "Unicode normalization will be the first step in the text standardization function"
   ]
  },
  {
   "cell_type": "code",
   "execution_count": 11,
   "id": "f16559ba-32c6-402e-a36f-d40f72a1eb74",
   "metadata": {},
   "outputs": [],
   "source": [
    "def tf_lower_and_split_punct(text): \n",
    "    text = tf_text.normalize_utf8(text, 'NFKD') # normalizes unicode text \n",
    "    \n",
    "    text = tf.strings.lower(text) # converts entire text to lowercase\n",
    "\n",
    "    text = tf.strings.regex_replace(text, '[^ a-z.?!,¿]','') # regex replacement to remove unwanted characters, Keep space , a to z and select punctuation \n",
    "\n",
    "    text = tf.strings.regex_replace(text, '[.?!,¿]', r' \\0 ') # adds spaces around punctuation marks\n",
    "\n",
    "    text = tf.strings.strip(text) # removes leading and trailing whitespaces, ensures clean text formatting\n",
    "\n",
    "    text = tf.strings.join(['[START]', text, '[END]'], separator=' ') # adds special token to beginning and end of text, [START] and [END] mark text boundaries\n",
    "\n",
    "    return text "
   ]
  },
  {
   "cell_type": "code",
   "execution_count": 12,
   "id": "909b6013-5bf1-4111-9c70-39087cda63c3",
   "metadata": {},
   "outputs": [
    {
     "name": "stdout",
     "output_type": "stream",
     "text": [
      "¿Todavía está en casa?\n",
      "[START] ¿ todavia esta en casa ? [END]\n"
     ]
    }
   ],
   "source": [
    "print(example.numpy().decode())\n",
    "print(tf_lower_and_split_punct(example).numpy().decode())"
   ]
  },
  {
   "cell_type": "markdown",
   "id": "d736ffce-7864-4b9e-9f5c-0e5ffe6677b1",
   "metadata": {},
   "source": [
    "## Text Vectorization"
   ]
  },
  {
   "cell_type": "markdown",
   "id": "92733877-c4d5-40aa-8eae-d544d59a3189",
   "metadata": {},
   "source": [
    "This standardization function will be wrapped up in a tf.keras.layers.TextVectorization layer which will handle the vocabulary extraction and conversion of input text to sequences of tokens."
   ]
  },
  {
   "cell_type": "code",
   "execution_count": 13,
   "id": "85171408-b7df-49ab-ab35-abf845b31295",
   "metadata": {},
   "outputs": [],
   "source": [
    "max_vocab_size = 5000\n",
    "\n",
    "context_text_processor = tf.keras.layers.TextVectorization(\n",
    "    standardize=tf_lower_and_split_punct, \n",
    "    max_tokens=max_vocab_size, \n",
    "    ragged=True\n",
    ")"
   ]
  },
  {
   "cell_type": "markdown",
   "id": "6c0bd97c-afc2-466d-a7cb-5804f25b3e5c",
   "metadata": {},
   "source": [
    "The TextVectorization layer and many other Keras preprocessing layers have an adapt method. This method reads one epoch of the training data, and works a lot like Model.fit. This adapt method initializes the layer based on the data. Here it determines the vocabulary"
   ]
  },
  {
   "cell_type": "code",
   "execution_count": 14,
   "id": "c284827d-6a80-4335-89b9-3cfe93e55c89",
   "metadata": {},
   "outputs": [
    {
     "name": "stderr",
     "output_type": "stream",
     "text": [
      "2024-12-12 09:48:45.844733: I tensorflow/core/framework/local_rendezvous.cc:405] Local rendezvous is aborting with status: OUT_OF_RANGE: End of sequence\n"
     ]
    },
    {
     "data": {
      "text/plain": [
       "['',\n",
       " '[UNK]',\n",
       " '[START]',\n",
       " '[END]',\n",
       " '.',\n",
       " 'que',\n",
       " 'de',\n",
       " 'el',\n",
       " 'a',\n",
       " 'no',\n",
       " 'tom',\n",
       " 'la',\n",
       " '?',\n",
       " '¿',\n",
       " 'en',\n",
       " 'es',\n",
       " 'un',\n",
       " 'se',\n",
       " 'me',\n",
       " ',']"
      ]
     },
     "execution_count": 14,
     "metadata": {},
     "output_type": "execute_result"
    }
   ],
   "source": [
    "context_text_processor.adapt(train_raw.map(lambda context, target: context))\n",
    "\n",
    "context_text_processor.get_vocabulary()[:20] # Get the first 20 words from the vocabulary"
   ]
  },
  {
   "cell_type": "markdown",
   "id": "36579605-b260-4603-98f7-7b0168ba20f6",
   "metadata": {},
   "source": [
    "That's the Spanish TextVectorization layer, now build and .adapt() the English one"
   ]
  },
  {
   "cell_type": "code",
   "execution_count": 15,
   "id": "355c1e71-a909-412b-af96-9541eb20a4ba",
   "metadata": {},
   "outputs": [
    {
     "name": "stderr",
     "output_type": "stream",
     "text": [
      "2024-12-12 09:48:47.625649: I tensorflow/core/framework/local_rendezvous.cc:405] Local rendezvous is aborting with status: OUT_OF_RANGE: End of sequence\n"
     ]
    },
    {
     "data": {
      "text/plain": [
       "['',\n",
       " '[UNK]',\n",
       " '[START]',\n",
       " '[END]',\n",
       " '.',\n",
       " 'the',\n",
       " 'i',\n",
       " 'to',\n",
       " 'you',\n",
       " 'tom',\n",
       " 'a',\n",
       " '?',\n",
       " 'is',\n",
       " 'he',\n",
       " 'in',\n",
       " 'of',\n",
       " 'that',\n",
       " 'it',\n",
       " 'was',\n",
       " ',']"
      ]
     },
     "execution_count": 15,
     "metadata": {},
     "output_type": "execute_result"
    }
   ],
   "source": [
    "target_text_processor = tf.keras.layers.TextVectorization(\n",
    "    standardize=tf_lower_and_split_punct, \n",
    "    max_tokens=max_vocab_size, \n",
    "    ragged=True\n",
    ")\n",
    "\n",
    "target_text_processor.adapt(train_raw.map(lambda context, target: target))\n",
    "\n",
    "target_text_processor.get_vocabulary()[:20]"
   ]
  },
  {
   "cell_type": "markdown",
   "id": "6a3af132-21f4-4597-afae-fe8433913a18",
   "metadata": {},
   "source": [
    "#### Now these layers can convert a batch of strings into a batch of token IDs"
   ]
  },
  {
   "cell_type": "code",
   "execution_count": 16,
   "id": "f2ad54ff-103d-42f6-aac1-54dafdb97586",
   "metadata": {},
   "outputs": [],
   "source": [
    "example_tokens = context_text_processor(example_context_strings)"
   ]
  },
  {
   "cell_type": "code",
   "execution_count": 17,
   "id": "0760e57f-d7e7-4898-b6c3-d78b4cfefd4c",
   "metadata": {},
   "outputs": [
    {
     "data": {
      "text/plain": [
       "<tf.RaggedTensor [[2, 1, 353, 106, 4, 3], [2, 14, 98, 274, 47, 952, 11, 1201, 4, 3],\n",
       " [2, 387, 5, 56, 15, 192, 1, 4, 3]]>"
      ]
     },
     "execution_count": 17,
     "metadata": {},
     "output_type": "execute_result"
    }
   ],
   "source": [
    "example_tokens[:3, :]"
   ]
  },
  {
   "cell_type": "markdown",
   "id": "2566934b-8a28-4c86-accc-e9d2174cae1d",
   "metadata": {},
   "source": [
    "The get_vocabulary method can be used to convert token IDs back to text"
   ]
  },
  {
   "cell_type": "code",
   "execution_count": 18,
   "id": "8cab2667-f5c8-4ef9-8545-f05645223e99",
   "metadata": {},
   "outputs": [
    {
     "data": {
      "text/plain": [
       "'[START] [UNK] mientras puedes . [END]'"
      ]
     },
     "execution_count": 18,
     "metadata": {},
     "output_type": "execute_result"
    }
   ],
   "source": [
    "\n",
    "context_vocab = np.array(context_text_processor.get_vocabulary()) # retrieves the vocabulary from the text processor, converts it to numpy array\n",
    "tokens = context_vocab[example_tokens[0].numpy()] # uses token indices to lookup actual words, converts numeric representation back to human-readable text\n",
    "\n",
    "' '.join(tokens)"
   ]
  },
  {
   "cell_type": "markdown",
   "id": "eaa8d9fe-18e7-42d4-a03b-1171c46a28d5",
   "metadata": {},
   "source": [
    "The returned token IDs are zero-padded. This can easily be turned into a mask"
   ]
  },
  {
   "cell_type": "code",
   "execution_count": 19,
   "id": "ffaf19a8-ccae-4d17-a79b-2c599ac879b8",
   "metadata": {},
   "outputs": [
    {
     "data": {
      "text/plain": [
       "Text(0.5, 1.0, 'Mask')"
      ]
     },
     "execution_count": 19,
     "metadata": {},
     "output_type": "execute_result"
    },
    {
     "data": {
      "image/png": "[encoded data removed]",
      "text/plain": [
       "<Figure size 640x480 with 2 Axes>"
      ]
     },
     "metadata": {},
     "output_type": "display_data"
    }
   ],
   "source": [
    "plt.subplot(1, 2, 1)\n",
    "plt.pcolormesh(example_tokens.to_tensor())\n",
    "plt.title('Token IDs')\n",
    "\n",
    "plt.subplot(1, 2, 2)\n",
    "plt.pcolormesh(example_tokens.to_tensor() != 0)\n",
    "plt.title('Mask')"
   ]
  },
  {
   "cell_type": "markdown",
   "id": "b4872eff-b78e-4c7a-8d8b-1224cf77317a",
   "metadata": {},
   "source": [
    "## Processing"
   ]
  },
  {
   "cell_type": "markdown",
   "id": "d23e2b8f-c189-4c57-b47a-454629e4b250",
   "metadata": {},
   "source": [
    "The `process_text` function below converts the Datasets of strings, into 0-padded tensors of token IDs. It also converts from a `(context, target)` pair to an `((context, target_in), target_out)` pair for training with `keras.Model.fit`. Keras expects `(inputs, labels)` pairs, the inputs are the `(context, target_in)` and the `labels` are `target_out`. The difference between `target_in` and `target_out` is that they are shifted by one step relative to eachother, so that at each location the label is the next token."
   ]
  },
  {
   "cell_type": "code",
   "execution_count": 20,
   "id": "fd693dc7-8ab5-475a-903e-6c86142dae44",
   "metadata": {},
   "outputs": [],
   "source": [
    "def process_text(context, target): \n",
    "    context = context_text_processor(context).to_tensor() # first, encode the context text data, and then convert it into tf tensor\n",
    "    target = target_text_processor(target) # encode the target text data\n",
    "\n",
    "    targ_in = target[:, :-1].to_tensor() # first, create the input target sequence by taking all but the last element of the target data, and then convert it into tf tensor\n",
    "    targ_out = target[:,1:].to_tensor() # first, create the input target sequence by taking all but the first element of the target data, and then convert it into tf tensor\n",
    "\n",
    "    return (context, targ_in), targ_out\n",
    "\n",
    "\n",
    "train_ds = train_raw.map(process_text, tf.data.AUTOTUNE)\n",
    "val_ds = val_raw.map(process_text, tf.data.AUTOTUNE)"
   ]
  },
  {
   "cell_type": "code",
   "execution_count": 21,
   "id": "50936fe5-87cd-417b-a039-e92b18723c4c",
   "metadata": {},
   "outputs": [
    {
     "name": "stdout",
     "output_type": "stream",
     "text": [
      "[   2   11  153   20 1066    6    1    4    3    0]\n",
      "\n",
      "[  2 216  12 533  15   1   4   0   0   0]\n",
      "[216  12 533  15   1   4   3   0   0   0]\n"
     ]
    }
   ],
   "source": [
    "for (ex_context_tok, ex_tar_in), ex_tar_out in train_ds.take(1):\n",
    "  print(ex_context_tok[0, :10].numpy()) \n",
    "  print()\n",
    "  print(ex_tar_in[0, :10].numpy()) \n",
    "  print(ex_tar_out[0, :10].numpy())"
   ]
  },
  {
   "cell_type": "markdown",
   "id": "0b6fbe29-784e-4a1d-af58-7b5620a44f01",
   "metadata": {},
   "source": [
    "## The Encoder/Decoder"
   ]
  },
  {
   "cell_type": "code",
   "execution_count": 22,
   "id": "e6306242-71c8-4385-9dea-6bca0b7002a1",
   "metadata": {},
   "outputs": [],
   "source": [
    "UNITS = 256"
   ]
  },
  {
   "cell_type": "markdown",
   "id": "731f75c4-807a-47c7-8c48-8f26ea002386",
   "metadata": {},
   "source": [
    "### Encoder"
   ]
  },
  {
   "cell_type": "markdown",
   "id": "2e5337af-80fa-4365-b727-f01df58fde6b",
   "metadata": {},
   "source": [
    "The goal of the encoder is to process the context sequence into a set of vectors that will be helpful for the decoder. The decoder will use these vectors to predict the next output at each time step.\n",
    "\n",
    "Since the input sequence does not change during the process, the encoder can use a bidirectional recuurent neural network to do the processing.\n",
    "\n",
    "A Bi-RNN processes the input sequence in both the forward and backward directions. This allows the encoder to capture information from the entire input sequence, which can be useful for the decoder when predicting the output.\n",
    "The key points are:\n",
    "\n",
    "1. The encoder converts the input sequence into a set of helpful vectors.\n",
    "2. The encoder uses a Bi-RNN to process the input in both directions.\n",
    "3. This bidirectional processing allows the encoder to leverage information from the whole input sequence.\n",
    "4. The decoder then uses these encoded vectors to predict the output sequence."
   ]
  },
  {
   "cell_type": "code",
   "execution_count": 23,
   "id": "93514eb9-98c6-4357-9c2e-faeddcfcb1dd",
   "metadata": {},
   "outputs": [],
   "source": [
    "class Encoder(tf.keras.layers.Layer):\n",
    "    def __init__(self, text_processor, units):\n",
    "        super(Encoder, self).__init__()\n",
    "        self.text_processor = text_processor\n",
    "        self.vocab_size = text_processor.vocabulary_size()\n",
    "        self.units = units\n",
    "        self.shape_checker = ShapeChecker()\n",
    "        \n",
    "        self.embedding = tf.keras.layers.Embedding(self.vocab_size, units,\n",
    "                                               mask_zero=True)\n",
    "        self.rnn = tf.keras.layers.Bidirectional(\n",
    "            merge_mode='sum',\n",
    "            layer=tf.keras.layers.GRU(units,\n",
    "                            return_sequences=True,\n",
    "                            recurrent_initializer='glorot_uniform'))\n",
    "    \n",
    "    def call(self, x):\n",
    "        # self.shape_checker(x, 'batch s')\n",
    "        \n",
    "        # 2. The embedding layer looks up the embedding vector for each token.\n",
    "        x = self.embedding(x)\n",
    "        # self.shape_checker(x, 'batch s units')\n",
    "        \n",
    "        # 3. The GRU processes the sequence of embeddings.\n",
    "        x = self.rnn(x)\n",
    "        # self.shape_checker(x, 'batch s units')\n",
    "        \n",
    "        # 4. Returns the new sequence of embeddings.\n",
    "        return x\n",
    "\n",
    "    def convert_input(self, texts):\n",
    "        print('is running!!')\n",
    "        texts = tf.convert_to_tensor(texts)\n",
    "        if len(texts.shape) == 0:\n",
    "            texts = tf.convert_to_tensor(texts)[tf.newaxis]\n",
    "        context = self.text_processor(texts).to_tensor()\n",
    "        context = self(context)\n",
    "        return context"
   ]
  },
  {
   "cell_type": "code",
   "execution_count": 24,
   "id": "b0682798-f081-4761-bec9-ebf879b180b8",
   "metadata": {},
   "outputs": [
    {
     "name": "stdout",
     "output_type": "stream",
     "text": [
      "Context tokens, shape (batch, s): (64, 20)\n",
      "Encoder output, shape (batch, s, units): (64, 20, 256)\n"
     ]
    }
   ],
   "source": [
    "encoder = Encoder(context_text_processor, UNITS)\n",
    "ex_context = encoder(ex_context_tok)\n",
    "\n",
    "print(f'Context tokens, shape (batch, s): {ex_context_tok.shape}')\n",
    "print(f'Encoder output, shape (batch, s, units): {ex_context.shape}')"
   ]
  },
  {
   "cell_type": "markdown",
   "id": "6a6d7cdc-9a7c-434d-83f4-3b1697917d4d",
   "metadata": {},
   "source": [
    "## The Attention Layer"
   ]
  },
  {
   "cell_type": "markdown",
   "id": "38d87805-c81f-417f-9a83-4d00857020e7",
   "metadata": {},
   "source": [
    "Think of attention like a smart lookup system. When the decoder needs to create its output, it uses attention to figure out which parts of the encoded input are most relevant right now. Instead of just taking a simple average of all the input information, attention calculates how important each piece of input is for the current task and creates a weighted combination - giving more weight to the important parts and less to the irrelevant ones."
   ]
  },
  {
   "cell_type": "code",
   "execution_count": 25,
   "id": "b986843c-638e-4488-b3bd-0aa5ccfb6702",
   "metadata": {},
   "outputs": [],
   "source": [
    "class CrossAttention(tf.keras.layers.Layer):\n",
    "  def __init__(self, units, **kwargs):\n",
    "    super().__init__()\n",
    "    self.mha = tf.keras.layers.MultiHeadAttention(key_dim=units, num_heads=1, **kwargs)\n",
    "    self.layernorm = tf.keras.layers.LayerNormalization()\n",
    "    self.add = tf.keras.layers.Add()\n",
    "\n",
    "  def call(self, x, context):\n",
    "    shape_checker = ShapeChecker()\n",
    "\n",
    "    shape_checker(x, 'batch t units')\n",
    "    shape_checker(context, 'batch s units')\n",
    "\n",
    "    attn_output, attn_scores = self.mha(\n",
    "        query=x,\n",
    "        value=context,\n",
    "        return_attention_scores=True)\n",
    "\n",
    "    shape_checker(x, 'batch t units')\n",
    "    shape_checker(attn_scores, 'batch heads t s')\n",
    "\n",
    "    # Cache the attention scores for plotting later.\n",
    "    attn_scores = tf.reduce_mean(attn_scores, axis=1)\n",
    "    shape_checker(attn_scores, 'batch t s')\n",
    "    self.last_attention_weights = attn_scores\n",
    "\n",
    "    x = self.add([x, attn_output])\n",
    "    x = self.layernorm(x)\n",
    "\n",
    "    return x"
   ]
  },
  {
   "cell_type": "code",
   "execution_count": 26,
   "id": "17b392c9-6130-430f-be97-e0e945d30934",
   "metadata": {},
   "outputs": [],
   "source": [
    "attention_layer = CrossAttention(UNITS)"
   ]
  },
  {
   "cell_type": "code",
   "execution_count": 27,
   "id": "f2f658b8-2abd-4f9a-833a-980efe1f1278",
   "metadata": {},
   "outputs": [
    {
     "name": "stdout",
     "output_type": "stream",
     "text": [
      "Attention result, shape (batch, t, units): (64, 18, 256)\n",
      "Attention weights, shape (batch, t, s):    (64, 18, 20)\n"
     ]
    },
    {
     "name": "stderr",
     "output_type": "stream",
     "text": [
      "/opt/anaconda3/envs/sequence-to-sequence-model/lib/python3.9/site-packages/keras/src/layers/layer.py:932: UserWarning: Layer 'cross_attention' (of type CrossAttention) was passed an input with a mask attached to it. However, this layer does not support masking and will therefore destroy the mask information. Downstream layers will not see the mask.\n",
      "  warnings.warn(\n"
     ]
    }
   ],
   "source": [
    "embed = tf.keras.layers.Embedding(target_text_processor.vocabulary_size(), output_dim=UNITS, mask_zero=True)\n",
    "\n",
    "ex_tar_embed = embed(ex_tar_in)\n",
    "\n",
    "result = attention_layer(ex_tar_embed, ex_context)\n",
    "\n",
    "print(f'Attention result, shape (batch, t, units): {result.shape}')\n",
    "print(f'Attention weights, shape (batch, t, s):    {attention_layer.last_attention_weights.shape}')"
   ]
  },
  {
   "cell_type": "markdown",
   "id": "161b93dd-c9b9-4d99-90d0-1bae2e6396a9",
   "metadata": {},
   "source": [
    "The attention weights will sum to 1 over the context sequence, at each location in the target sequence"
   ]
  },
  {
   "cell_type": "code",
   "execution_count": 28,
   "id": "cc48af9c-0a29-4182-b226-a861731e4474",
   "metadata": {},
   "outputs": [
    {
     "data": {
      "text/plain": [
       "array([1.       , 1.       , 1.       , 1.       , 1.       , 1.       ,\n",
       "       1.0000001, 1.       , 1.       , 1.       , 1.       , 1.       ,\n",
       "       1.       , 1.       , 1.       , 1.       , 1.       , 1.       ],\n",
       "      dtype=float32)"
      ]
     },
     "execution_count": 28,
     "metadata": {},
     "output_type": "execute_result"
    }
   ],
   "source": [
    "attention_layer.last_attention_weights[0].numpy().sum(axis=-1)"
   ]
  },
  {
   "cell_type": "markdown",
   "id": "5d6a71d6-c68c-46f5-a0fb-4f26b3481fd3",
   "metadata": {},
   "source": [
    "Here are the attention weights across the context sequences at t=0:"
   ]
  },
  {
   "cell_type": "code",
   "execution_count": 29,
   "id": "e95ae71d-4d13-4fc0-80cf-eed9e2e61f46",
   "metadata": {},
   "outputs": [
    {
     "data": {
      "image/png": "[encoded data removed]",
      "text/plain": [
       "<Figure size 640x480 with 2 Axes>"
      ]
     },
     "metadata": {},
     "output_type": "display_data"
    }
   ],
   "source": [
    "attention_weights = attention_layer.last_attention_weights\n",
    "mask=(ex_context_tok != 0).numpy()\n",
    "\n",
    "plt.subplot(1, 2, 1)\n",
    "plt.pcolormesh(mask*attention_weights[:, 0, :])\n",
    "plt.title('Attention weights')\n",
    "\n",
    "plt.subplot(1, 2, 2)\n",
    "plt.pcolormesh(mask)\n",
    "plt.title('Mask');"
   ]
  },
  {
   "cell_type": "markdown",
   "id": "f972b39b-549d-43d1-8289-ef01b3f395d3",
   "metadata": {},
   "source": [
    "#### Conclusions from the Above Plots \n",
    "\n",
    "- The first plot shows the \"Attention weights\". At the start of training, these weights are all about the same, around 1 divided by the length of the input sequence. This means the model is initially paying equal attention to all parts of the input.\n",
    "\n",
    "- However, as the model trains more, the attention weights start to become less uniform. Some parts of the input get higher weights, while others get lower weights. This means the model is learning to focus more on the important parts of the input and pay less attention to the less relevant parts.\n",
    "\n",
    "- The second plot shows the \"Mask\". This represents how the model is selecting which parts of the input to focus on. Initially, the mask is fairly even, but as training progresses, the mask becomes more irregular and jagged. This indicates the model is becoming more selective in where it pays attention.\n",
    "\n",
    "- Overall, these two plots demonstrate how the attention mechanism in the model is evolving during training. It starts off paying equal attention to everything, but gradually learns to focus on the most important parts of the input for the given task. This is an important part of how attention-based models like transformers work.\n"
   ]
  },
  {
   "cell_type": "markdown",
   "id": "0a5916a8-7926-46b8-9bf9-c84366f07319",
   "metadata": {},
   "source": [
    "### Decoder"
   ]
  },
  {
   "cell_type": "markdown",
   "id": "341b94d3-12c6-4676-bc02-397879dd3cee",
   "metadata": {},
   "source": [
    "The decoder's job is to predict the next word in the output sequence, one word at a time.\n",
    "Here's how it does that:\n",
    "\n",
    "1. It looks up the embeddings (representations) for each word in the target sequence.\n",
    "2. It uses a type of neural network called an RNN to process the target sequence. This helps the model keep track of what it has generated so far.\n",
    "3. The RNN output is used as the \"query\" when attending to the encoder's output. This helps the decoder focus on the relevant parts of the input.\n",
    "4. At each location in the output, the model predicts what the next word should be.\n",
    "\n",
    "When training the model, it predicts the next word at each step. This is important because the information can only flow in one direction through the model - the decoder uses a unidirectional RNN.\n",
    "During inference (when actually using the model), it generates one word at a time, and feeds those words back into the model to predict the next word.\n",
    "The key points are that the decoder generates the output one word at a time, uses an RNN to keep track of what it has generated, and attends to the encoder's output to make its predictions.\n"
   ]
  },
  {
   "cell_type": "code",
   "execution_count": 30,
   "id": "8134c619-7789-4204-8520-d13328acf272",
   "metadata": {},
   "outputs": [],
   "source": [
    "class Decoder(tf.keras.layers.Layer):\n",
    "    # A utility decorator that allows adding methods to the class dynamically\n",
    "    @classmethod \n",
    "    def add_method(cls, fun): \n",
    "        setattr(cls, fun.__name__, fun)\n",
    "        return fun\n",
    "    def __init__(self, text_processor, units): \n",
    "        super(Decoder, self).__init__()\n",
    "\n",
    "        self.text_processor = text_processor\n",
    "        self.vocab_size = text_processor.vocabulary_size()\n",
    "\n",
    "        # Converts words to numeric ids\n",
    "        # The vocabulary argument is a list of all the words in the input and target sequences.\n",
    "        # The mask_token and oov_token arguments specify the tokens that are used to mask and represent out-of-vocabulary words, respectively.\n",
    "        self.word_to_id = tf.keras.layers.StringLookup(\n",
    "            vocabulary=text_processor.get_vocabulary(), \n",
    "            mask_token='', \n",
    "            oov_token='[UNK]'\n",
    "        )\n",
    "\n",
    "        # Converts Ids to their corresponding words \n",
    "        # the invert argument is set to true to indicate that this layer \n",
    "        # will be used to convert IDs to words \n",
    "        self.id_to_word = tf.keras.layers.StringLookup(\n",
    "            vocabulary=text_processor.get_vocabulary(), \n",
    "            mask_token='', \n",
    "            oov_token='[UNK]', \n",
    "            invert=True\n",
    "        )\n",
    "\n",
    "        # Special token to indicate sequence start\n",
    "        self.start_token = self.word_to_id('[START]')\n",
    "\n",
    "        # Special token to indicate sequence end\n",
    "        self.end_token = self.word_to_id('[END]')\n",
    "\n",
    "        # number of units in decoder \n",
    "        self.units = units \n",
    "\n",
    "        # Embedding layer - Converts token IDs to dense vectors\n",
    "        self.embedding = tf.keras.layers.Embedding(self.vocab_size, units, mask_zero=True)\n",
    "\n",
    "        # GRU layer for sequence processing\n",
    "        self.rnn = tf.keras.layers.GRU(units, \n",
    "                                      return_sequences=True,\n",
    "                                      return_state=True, \n",
    "                                      recurrent_initializer='glorot_uniform')\n",
    "\n",
    "        # Attention mechanism to focus on relevant parts of input\n",
    "        self.attention = CrossAttention(units)\n",
    "\n",
    "        # Final Dense layer to convert to vocabulary size \n",
    "        self.output_layer = tf.keras.layers.Dense(self.vocab_size)\n",
    "\n",
    "        \n",
    "\n",
    "        "
   ]
  },
  {
   "cell_type": "markdown",
   "id": "44242377-b816-4aeb-9a9f-0f48e9b6d500",
   "metadata": {},
   "source": [
    "### Training"
   ]
  },
  {
   "cell_type": "markdown",
   "id": "95b4563b-86f3-42f4-8ec9-10b9d708533a",
   "metadata": {},
   "source": [
    "Next, we will create the `call` method for the decoder class"
   ]
  },
  {
   "cell_type": "code",
   "execution_count": 31,
   "id": "17b0f0bc-30e7-43b4-9100-165960da673d",
   "metadata": {},
   "outputs": [],
   "source": [
    "@Decoder.add_method # custom decortor to add this method to the decoder class\n",
    "def call(self, context, x , state=None, return_state=False):\n",
    "    # Shape Validation \n",
    "    shape_checker = ShapeChecker()\n",
    "\n",
    "    shape_checker(x, 'batch t') # validates input shape - batch size * time steps\n",
    "    shape_checker(context, 'batch s units') # validates context shape - batch size * source length * units\n",
    "\n",
    "    # Embedding Lookup\n",
    "    x = self.embedding(x) # convert input tokens to embeddings\n",
    "    shape_checker(x, 'batch t units') # verify shape: batch * time steps * embedding dims\n",
    "\n",
    "    # RNN Processing \n",
    "    x, state = self.rnn(x, initial_state=state) # process sequence through GRU\n",
    "    shape_checker(x, 'batch t units') # verify RNN output shape\n",
    "\n",
    "    # Attention mechanism \n",
    "    x = self.attention(x, context) # apply attention using rnn output as query\n",
    "    self.last_attention_weights = self.attention.last_attention_weights # store attention weights\n",
    "    shape_checker(x, 'batch t units') # verify attention output shape\n",
    "    shape_checker(self.last_attention_weights, 'batch t s')\n",
    "\n",
    "    # Output Generation \n",
    "    logits = self.output_layer(x) # generate vocabulary distribution\n",
    "    shape_checker(logits, 'batch t target_vocab_size') # verify final output shape\n",
    "\n",
    "    if return_state: \n",
    "        return logits, state # return both predictions and RNN state\n",
    "    else: \n",
    "        return logits\n",
    "\n",
    "\n",
    "\n",
    "        "
   ]
  },
  {
   "cell_type": "code",
   "execution_count": 32,
   "id": "99afda7d-8692-42da-8827-c297a966c84e",
   "metadata": {},
   "outputs": [],
   "source": [
    "decoder = Decoder(target_text_processor, UNITS)"
   ]
  },
  {
   "cell_type": "markdown",
   "id": "746eb1f3-49ca-4eba-a1c5-8ec4bb022a8d",
   "metadata": {},
   "source": [
    "In training you'll use the decoder like this:\n",
    "\n",
    "Given the context and target tokens, for each target token it predicts the next target token."
   ]
  },
  {
   "cell_type": "code",
   "execution_count": 33,
   "id": "515b2a70-9395-44af-8c12-18f28fdbd329",
   "metadata": {},
   "outputs": [
    {
     "name": "stdout",
     "output_type": "stream",
     "text": [
      "encoder output shape(64, 20, 256)\n",
      "input target tokens shape (64, 18)\n",
      "logits shape shape (64, 18, 5000)\n"
     ]
    },
    {
     "name": "stderr",
     "output_type": "stream",
     "text": [
      "/opt/anaconda3/envs/sequence-to-sequence-model/lib/python3.9/site-packages/keras/src/layers/layer.py:932: UserWarning: Layer 'cross_attention_1' (of type CrossAttention) was passed an input with a mask attached to it. However, this layer does not support masking and will therefore destroy the mask information. Downstream layers will not see the mask.\n",
      "  warnings.warn(\n",
      "/opt/anaconda3/envs/sequence-to-sequence-model/lib/python3.9/site-packages/keras/src/layers/layer.py:391: UserWarning: `build()` was called on layer 'decoder', however the layer does not have a `build()` method implemented and it looks like it has unbuilt state. This will cause the layer to be marked as built, despite not being actually built, which may cause failures down the line. Make sure to implement a proper `build()` method.\n",
      "  warnings.warn(\n",
      "/opt/anaconda3/envs/sequence-to-sequence-model/lib/python3.9/site-packages/keras/src/layers/layer.py:932: UserWarning: Layer 'decoder' (of type Decoder) was passed an input with a mask attached to it. However, this layer does not support masking and will therefore destroy the mask information. Downstream layers will not see the mask.\n",
      "  warnings.warn(\n"
     ]
    }
   ],
   "source": [
    "logits = decoder(ex_context, ex_tar_in)\n",
    "\n",
    "print(f'encoder output shape{ex_context.shape}')\n",
    "print(f'input target tokens shape {ex_tar_in.shape}')\n",
    "print(f'logits shape shape {logits.shape}')"
   ]
  },
  {
   "cell_type": "markdown",
   "id": "e0d6bee4-e6ee-4b67-8d6b-19c73e6f9096",
   "metadata": {},
   "source": [
    "### Inference \n",
    "To use it for inference, we`ll need a couple more methods"
   ]
  },
  {
   "cell_type": "code",
   "execution_count": 34,
   "id": "9d51a087-67b2-43c2-8416-c5bf8eab7c2a",
   "metadata": {},
   "outputs": [],
   "source": [
    "# The function serves to initialize decoder`s sequence for sequence generation\n",
    "@Decoder.add_method\n",
    "def get_initial_state(self, context): \n",
    "    batch_size = tf.shape(context)[0] # get the batch size from the first dimension of the context tensor \n",
    "    start_tokens = tf.fill([batch_size, 1], self.start_token) # create a tensor filled with start_token for each item in the batch\n",
    "    done = tf.zeros([batch_size, 1], dtype=tf.bool) # creates a boolean tensor initialized with FALSE values for tracking completion\n",
    "    embedded = self.embedding(start_tokens) # convert start_tokens to embeddings\n",
    "\n",
    "    # Get initial state from RNN\n",
    "    # Instead of using get_initial_state directly, we'll use zeros with proper shape\n",
    "    initial_state = tf.zeros([batch_size, self.units])\n",
    "\n",
    "    return start_tokens, done, initial_state\n",
    "\n",
    "\n",
    "    "
   ]
  },
  {
   "cell_type": "code",
   "execution_count": 35,
   "id": "8421c3fe-58e5-405e-98c6-2724f1bde631",
   "metadata": {},
   "outputs": [],
   "source": [
    "# The function serves to convert numeric tokens back into text \n",
    "@Decoder.add_method\n",
    "def tokens_to_text(self, tokens):\n",
    "    words = self.id_to_word(tokens) # convert token IDs back to words using id_to_word lookup layer\n",
    "\n",
    "    res = tf.strings.reduce_join(words, axis=-1, separator=' ') # join all words with spaces bw them\n",
    "    res = tf.strings.regex_replace(res, '^ *\\[START\\] *', '') # remove START token and surrounding spaces from the beginning\n",
    "    res = tf.strings.regex_replace(res, '^ *\\[END\\] *$', '') # remove END token and surrounding spaces from the end\n",
    "\n",
    "    return res \n",
    "\n",
    "    "
   ]
  },
  {
   "cell_type": "code",
   "execution_count": 36,
   "id": "9cd10f81-7818-4274-965c-7ebea0c5bc50",
   "metadata": {},
   "outputs": [],
   "source": [
    "@Decoder.add_method\n",
    "def get_next_token(self, context, next_token, done, state, temperature = 0.0):\n",
    "  logits, state = self(\n",
    "    context, next_token,\n",
    "    state = state,\n",
    "    return_state=True) \n",
    "\n",
    "  if temperature == 0.0:\n",
    "    next_token = tf.argmax(logits, axis=-1)\n",
    "  else:\n",
    "    logits = logits[:, -1, :]/temperature\n",
    "    next_token = tf.random.categorical(logits, num_samples=1)\n",
    "\n",
    "  # If a sequence produces an `end_token`, set it `done`\n",
    "  done = done | (next_token == self.end_token)\n",
    "  # Once a sequence is done it only produces 0-padding.\n",
    "  next_token = tf.where(done, tf.constant(0, dtype=tf.int64), next_token)\n",
    "\n",
    "  return next_token, done, state"
   ]
  },
  {
   "cell_type": "markdown",
   "id": "a84317bb-27a9-49e3-8d27-1d8ab66656f5",
   "metadata": {},
   "source": [
    "When temperature > 0: \n",
    "1. The logits (raw scores) are divided by the temperature value.\n",
    "   - Higher temperature (>1.0) makes the distribution more uniform/random\n",
    "   - Lower temperature (<1.0) makes the distribution more peaked/focused\n",
    "2. tf.random.categorical samples from this modified distribution\n",
    "\n",
    " Think of temperature like this:\n",
    "- temperature = 0.0: Always picks the most probable token (deterministic)\n",
    "- temperature = 1.0: Samples according to the original probability distribution\n",
    "- temperature > 1.0: More random/creative sampling\n",
    "- temperature < 1.0: More conservative sampling, closer to greedy selection"
   ]
  },
  {
   "cell_type": "markdown",
   "id": "56e38380-2d01-46f4-b013-80734d3abf9a",
   "metadata": {},
   "source": [
    "Now, we are ready to write a generation loop "
   ]
  },
  {
   "cell_type": "code",
   "execution_count": 37,
   "id": "1e07d243-4431-412d-a2cb-9c9033c6066d",
   "metadata": {},
   "outputs": [
    {
     "data": {
      "text/plain": [
       "array([b'protected credit lead troubles dawn horse shares begins hoping promising',\n",
       "       b'flashlight oak subway including mile prevented hydrogen hoped hell stake',\n",
       "       b'recently india graduate alcoholic could potatoes yawn speechless receiving call'],\n",
       "      dtype=object)"
      ]
     },
     "execution_count": 37,
     "metadata": {},
     "output_type": "execute_result"
    }
   ],
   "source": [
    "# Setup the loop variables.\n",
    "next_token, done, state = decoder.get_initial_state(ex_context)\n",
    "tokens = []\n",
    "\n",
    "for n in range(10):\n",
    "  # Run one step.\n",
    "  next_token, done, state = decoder.get_next_token(\n",
    "      ex_context, next_token, done, state, temperature=1.0)\n",
    "  # Add the token to the output.\n",
    "  tokens.append(next_token)\n",
    "\n",
    "# Stack all the tokens together.\n",
    "tokens = tf.concat(tokens, axis=-1) # (batch, t)\n",
    "\n",
    "# Convert the tokens back to a a string\n",
    "result = decoder.tokens_to_text(tokens)\n",
    "result[:3].numpy()"
   ]
  },
  {
   "cell_type": "markdown",
   "id": "2737d75c-3ce4-4786-b1a3-62c9559dbe92",
   "metadata": {},
   "source": [
    "#### Since the model's untrained, it outputs items from the vocabulary almost uniformly at random"
   ]
  },
  {
   "cell_type": "markdown",
   "id": "31b74bdd-7645-4d48-91d1-335d6bcaa346",
   "metadata": {},
   "source": [
    "## The Model"
   ]
  },
  {
   "cell_type": "code",
   "execution_count": 38,
   "id": "891f9f7e-df17-4445-9917-8cdfb1f3f2d3",
   "metadata": {},
   "outputs": [],
   "source": [
    "# Now, We create a translator class whose purpopse is to combine an encoder and decoder to process inputabs\n",
    "# sequences and generate corresponding output sequences\n",
    "\n",
    "class Translator(tf.keras.Model): \n",
    "    # A utility decorator that allows adding methods to the class dynamically\n",
    "    @classmethod\n",
    "    def add_method(cls, fun): \n",
    "        setattr(cls, fun.__name__, fun)\n",
    "        return fun\n",
    "\n",
    "    def __init__(self, units, context_text_processor, target_text_processor): \n",
    "        super().__init__()\n",
    "\n",
    "        # Build Encoder and Decoder\n",
    "        encoder = Encoder(context_text_processor, units)\n",
    "        decoder = Decoder(target_text_processor, units)\n",
    "        self.encoder = encoder\n",
    "        self.decoder = decoder\n",
    "\n",
    "    def call(self, inputs):\n",
    "\n",
    "        context, x = inputs\n",
    "        context = self.encoder(context)\n",
    "        logits = self.decoder(context, x)\n",
    "\n",
    "        try: \n",
    "            del logits._keras_mask\n",
    "        except AttributeError: \n",
    "            pass \n",
    "\n",
    "        return logits\n",
    "        "
   ]
  },
  {
   "cell_type": "markdown",
   "id": "174f10a5-63e1-475a-a3e3-1d5c59701c87",
   "metadata": {},
   "source": [
    "During Training, the Model will be used like this"
   ]
  },
  {
   "cell_type": "code",
   "execution_count": 39,
   "id": "45cc2b1f-82d4-4ae1-a2ec-74e0212b8256",
   "metadata": {},
   "outputs": [
    {
     "name": "stderr",
     "output_type": "stream",
     "text": [
      "/opt/anaconda3/envs/sequence-to-sequence-model/lib/python3.9/site-packages/keras/src/layers/layer.py:932: UserWarning: Layer 'cross_attention_2' (of type CrossAttention) was passed an input with a mask attached to it. However, this layer does not support masking and will therefore destroy the mask information. Downstream layers will not see the mask.\n",
      "  warnings.warn(\n",
      "/opt/anaconda3/envs/sequence-to-sequence-model/lib/python3.9/site-packages/keras/src/layers/layer.py:391: UserWarning: `build()` was called on layer 'decoder_1', however the layer does not have a `build()` method implemented and it looks like it has unbuilt state. This will cause the layer to be marked as built, despite not being actually built, which may cause failures down the line. Make sure to implement a proper `build()` method.\n",
      "  warnings.warn(\n",
      "/opt/anaconda3/envs/sequence-to-sequence-model/lib/python3.9/site-packages/keras/src/layers/layer.py:932: UserWarning: Layer 'decoder_1' (of type Decoder) was passed an input with a mask attached to it. However, this layer does not support masking and will therefore destroy the mask information. Downstream layers will not see the mask.\n",
      "  warnings.warn(\n"
     ]
    },
    {
     "name": "stdout",
     "output_type": "stream",
     "text": [
      "Context tokens, shape: (batch, s, units) (64, 20)\n",
      "Target tokens, shape: (batch, t) (64, 18)\n",
      "logits, shape: (batch, t, target_vocabulary_size) (64, 18, 5000)\n"
     ]
    }
   ],
   "source": [
    "model = Translator(UNITS, context_text_processor, target_text_processor)\n",
    "\n",
    "logits = model((ex_context_tok, ex_tar_in))\n",
    "\n",
    "print(f'Context tokens, shape: (batch, s, units) {ex_context_tok.shape}')\n",
    "print(f'Target tokens, shape: (batch, t) {ex_tar_in.shape}')\n",
    "print(f'logits, shape: (batch, t, target_vocabulary_size) {logits.shape}')"
   ]
  },
  {
   "cell_type": "markdown",
   "id": "61264803-699c-4a88-b975-6205ce70b3a9",
   "metadata": {},
   "source": [
    "## Train\n",
    "\n",
    "For training, you'll want to implement your own masked loss and accuracy functions:"
   ]
  },
  {
   "cell_type": "markdown",
   "id": "75a02111-a2ba-4d1c-92b1-dabae47d91cb",
   "metadata": {},
   "source": [
    "Now, We will create a custom loss function used in seq2seq models or other tasks that involve variable length sequences and padding. It serves two main purposes: \n",
    "\n",
    "- **Ignore Losses from Padding Tokens**: In sequence-to-sequence tasks, input sequences are often padded to a fixed length to create batches of data. However, during training, we want to ignore the loss contributions from these padding tokens, as they don't represent actual data.\n",
    "- **Calculate the Average Loss over Non-Padding Tokens**: Instead of calculating the total loss over the entire batch, which would include losses from padding tokens, this function calculates the average loss only over the non-padding tokens, giving a more accurate representation of the model's performance."
   ]
  },
  {
   "cell_type": "code",
   "execution_count": 40,
   "id": "b3426687-4260-46c1-95c9-b44937d140b1",
   "metadata": {},
   "outputs": [],
   "source": [
    "def masked_loss(y_true, y_pred): \n",
    "    # Calculate the loss for each item in the batch using SparseCategoricalCrossentropy\n",
    "    # from_logits-True indicates that y_pred contains unscaled logits (instead of probabilities)\n",
    "    # reduction=None specifies that the loss should be calculates for each individual element\n",
    "    loss_fn = tf.keras.losses.SparseCategoricalCrossentropy(\n",
    "        from_logits=True, reduction='none'\n",
    "    )\n",
    "    loss = loss_fn(y_true, y_pred)\n",
    "\n",
    "    # Create a boolean mask tensor where True represents non-padding elements \n",
    "    # y_true != 0 evaluates to a boolean tensor with True where y_true is non-zero \n",
    "    # tf.cast converts the boolean tensor to the same data type as loss\n",
    "    mask = tf.cast(y_true != 0, loss.dtype)\n",
    "\n",
    "    # Apply the mask to the loss tensor, setting losses for padding elements to 0 \n",
    "    loss *= mask \n",
    "\n",
    "    # Calculate the final loss by summing the masked losses and normalizing by the \n",
    "    # number of non-padding elements \n",
    "    # tf.reduce_sum(loss) sums all the masked loss values\n",
    "    # tf.reduce_sum(mask) counts the number of non-padding elements\n",
    "    return tf.reduce_sum(loss) / tf.reduce_sum(mask)"
   ]
  },
  {
   "cell_type": "code",
   "execution_count": 41,
   "id": "e8ec3e60-636d-4080-b96e-54a3043063e9",
   "metadata": {},
   "outputs": [],
   "source": [
    "def masked_accuracy(y_true, y_pred):\n",
    "    # Calculate the loss for each item in the batch \n",
    "    # Take the argmax of y_pred along the last dimension to get the predicted class indices\n",
    "    y_pred = tf.argmax(y_pred, axis=-1)\n",
    "\n",
    "    # cast the predicted class indices to the same data type as y_true\n",
    "    y_pred = tf.cast(y_pred, y_true.dtype)\n",
    "\n",
    "    # compute the match bw y_true and y_pred, and cast to float32 \n",
    "    match = tf.cast(y_true == y_pred, tf.float32)\n",
    "\n",
    "    # create a mask to ignore padding values in y_true\n",
    "    mask = tf.cast(y_true != 0, tf.float32)\n",
    "\n",
    "    # calculate the sum of matches, divided by the sum of non-padding values in y_true\n",
    "    return tf.reduce_sum(match) / tf.reduce_sum(mask)"
   ]
  },
  {
   "cell_type": "markdown",
   "id": "2209d11e-7b7f-458f-971d-e5bfff00811d",
   "metadata": {},
   "source": [
    "### Compile the Model"
   ]
  },
  {
   "cell_type": "code",
   "execution_count": 42,
   "id": "f5d0902b-a822-4620-8532-b3d9797bb8ba",
   "metadata": {},
   "outputs": [],
   "source": [
    "model.compile(optimizer='adam', loss=masked_loss, metrics=[masked_accuracy, masked_loss])"
   ]
  },
  {
   "cell_type": "markdown",
   "id": "a8db0b8e-add7-42eb-96ac-a61021ad4149",
   "metadata": {},
   "source": [
    "The model is randomly initialized, and should give roughly uniform output probabilities. So it's easy to predict what the initial values of the metrics should be:"
   ]
  },
  {
   "cell_type": "code",
   "execution_count": 43,
   "id": "e6cfc3b6-3266-4aeb-8cc7-588739e23f72",
   "metadata": {},
   "outputs": [
    {
     "data": {
      "text/plain": [
       "{'expected_loss': 8.517193, 'expected_acc': 0.0002}"
      ]
     },
     "execution_count": 43,
     "metadata": {},
     "output_type": "execute_result"
    }
   ],
   "source": [
    "# That should roughly match the values returned by running a few steps of evaluation:\n",
    "vocab_size = 1.0 * target_text_processor.vocabulary_size()\n",
    "\n",
    "{\"expected_loss\": tf.math.log(vocab_size).numpy(),\n",
    " \"expected_acc\": 1/vocab_size}"
   ]
  },
  {
   "cell_type": "code",
   "execution_count": 44,
   "id": "14bddea5-982c-4a02-9a1f-046e75f99c1b",
   "metadata": {},
   "outputs": [
    {
     "name": "stdout",
     "output_type": "stream",
     "text": [
      "\u001b[1m20/20\u001b[0m \u001b[32m━━━━━━━━━━━━━━━━━━━━\u001b[0m\u001b[37m\u001b[0m \u001b[1m2s\u001b[0m 59ms/step - loss: 8.5315 - masked_accuracy: 0.0000e+00 - masked_loss: 8.5315  \n"
     ]
    },
    {
     "data": {
      "text/plain": [
       "{'loss': 8.53080940246582,\n",
       " 'masked_accuracy': 0.0,\n",
       " 'masked_loss': 8.53080940246582}"
      ]
     },
     "execution_count": 44,
     "metadata": {},
     "output_type": "execute_result"
    }
   ],
   "source": [
    "model.evaluate(val_ds, steps=20, return_dict=True)"
   ]
  },
  {
   "cell_type": "code",
   "execution_count": 45,
   "id": "baf1b833-2362-476d-903c-2778485b9324",
   "metadata": {
    "scrolled": true
   },
   "outputs": [
    {
     "name": "stdout",
     "output_type": "stream",
     "text": [
      "Epoch 1/100\n",
      "\u001b[1m100/100\u001b[0m \u001b[32m━━━━━━━━━━━━━━━━━━━━\u001b[0m\u001b[37m\u001b[0m \u001b[1m21s\u001b[0m 185ms/step - loss: 5.7545 - masked_accuracy: 0.2106 - masked_loss: 5.7545 - val_loss: 4.0155 - val_masked_accuracy: 0.3633 - val_masked_loss: 4.0155\n",
      "Epoch 2/100\n",
      "\u001b[1m100/100\u001b[0m \u001b[32m━━━━━━━━━━━━━━━━━━━━\u001b[0m\u001b[37m\u001b[0m \u001b[1m18s\u001b[0m 179ms/step - loss: 3.7970 - masked_accuracy: 0.3920 - masked_loss: 3.7970 - val_loss: 3.2938 - val_masked_accuracy: 0.4552 - val_masked_loss: 3.2938\n",
      "Epoch 3/100\n",
      "\u001b[1m100/100\u001b[0m \u001b[32m━━━━━━━━━━━━━━━━━━━━\u001b[0m\u001b[37m\u001b[0m \u001b[1m19s\u001b[0m 194ms/step - loss: 3.1834 - masked_accuracy: 0.4730 - masked_loss: 3.1834 - val_loss: 2.9156 - val_masked_accuracy: 0.5095 - val_masked_loss: 2.9156\n",
      "Epoch 4/100\n",
      "\u001b[1m100/100\u001b[0m \u001b[32m━━━━━━━━━━━━━━━━━━━━\u001b[0m\u001b[37m\u001b[0m \u001b[1m24s\u001b[0m 240ms/step - loss: 2.7609 - masked_accuracy: 0.5301 - masked_loss: 2.7609 - val_loss: 2.5189 - val_masked_accuracy: 0.5608 - val_masked_loss: 2.5189\n",
      "Epoch 5/100\n",
      "\u001b[1m100/100\u001b[0m \u001b[32m━━━━━━━━━━━━━━━━━━━━\u001b[0m\u001b[37m\u001b[0m \u001b[1m24s\u001b[0m 231ms/step - loss: 2.4360 - masked_accuracy: 0.5765 - masked_loss: 2.4360 - val_loss: 2.2116 - val_masked_accuracy: 0.6047 - val_masked_loss: 2.2116\n",
      "Epoch 6/100\n",
      "\u001b[1m100/100\u001b[0m \u001b[32m━━━━━━━━━━━━━━━━━━━━\u001b[0m\u001b[37m\u001b[0m \u001b[1m21s\u001b[0m 209ms/step - loss: 2.2212 - masked_accuracy: 0.6066 - masked_loss: 2.2212 - val_loss: 2.0106 - val_masked_accuracy: 0.6342 - val_masked_loss: 2.0106\n",
      "Epoch 7/100\n",
      "\u001b[1m100/100\u001b[0m \u001b[32m━━━━━━━━━━━━━━━━━━━━\u001b[0m\u001b[37m\u001b[0m \u001b[1m24s\u001b[0m 242ms/step - loss: 2.0273 - masked_accuracy: 0.6356 - masked_loss: 2.0273 - val_loss: 1.8954 - val_masked_accuracy: 0.6556 - val_masked_loss: 1.8954\n",
      "Epoch 8/100\n",
      "\u001b[1m100/100\u001b[0m \u001b[32m━━━━━━━━━━━━━━━━━━━━\u001b[0m\u001b[37m\u001b[0m \u001b[1m25s\u001b[0m 250ms/step - loss: 1.9021 - masked_accuracy: 0.6555 - masked_loss: 1.9021 - val_loss: 1.7836 - val_masked_accuracy: 0.6623 - val_masked_loss: 1.7836\n",
      "Epoch 9/100\n",
      "\u001b[1m100/100\u001b[0m \u001b[32m━━━━━━━━━━━━━━━━━━━━\u001b[0m\u001b[37m\u001b[0m \u001b[1m26s\u001b[0m 259ms/step - loss: 1.8160 - masked_accuracy: 0.6639 - masked_loss: 1.8160 - val_loss: 1.7088 - val_masked_accuracy: 0.6778 - val_masked_loss: 1.7088\n",
      "Epoch 10/100\n",
      "\u001b[1m100/100\u001b[0m \u001b[32m━━━━━━━━━━━━━━━━━━━━\u001b[0m\u001b[37m\u001b[0m \u001b[1m22s\u001b[0m 217ms/step - loss: 1.7045 - masked_accuracy: 0.6842 - masked_loss: 1.7045 - val_loss: 1.6539 - val_masked_accuracy: 0.6947 - val_masked_loss: 1.6539\n",
      "Epoch 11/100\n",
      "\u001b[1m100/100\u001b[0m \u001b[32m━━━━━━━━━━━━━━━━━━━━\u001b[0m\u001b[37m\u001b[0m \u001b[1m22s\u001b[0m 224ms/step - loss: 1.6462 - masked_accuracy: 0.6873 - masked_loss: 1.6462 - val_loss: 1.5439 - val_masked_accuracy: 0.7035 - val_masked_loss: 1.5439\n",
      "Epoch 12/100\n",
      "\u001b[1m100/100\u001b[0m \u001b[32m━━━━━━━━━━━━━━━━━━━━\u001b[0m\u001b[37m\u001b[0m \u001b[1m23s\u001b[0m 230ms/step - loss: 1.5649 - masked_accuracy: 0.6984 - masked_loss: 1.5649 - val_loss: 1.4864 - val_masked_accuracy: 0.7134 - val_masked_loss: 1.4864\n",
      "Epoch 13/100\n",
      "\u001b[1m100/100\u001b[0m \u001b[32m━━━━━━━━━━━━━━━━━━━━\u001b[0m\u001b[37m\u001b[0m \u001b[1m23s\u001b[0m 225ms/step - loss: 1.5205 - masked_accuracy: 0.7097 - masked_loss: 1.5205 - val_loss: 1.4913 - val_masked_accuracy: 0.7071 - val_masked_loss: 1.4913\n",
      "Epoch 14/100\n",
      "\u001b[1m100/100\u001b[0m \u001b[32m━━━━━━━━━━━━━━━━━━━━\u001b[0m\u001b[37m\u001b[0m \u001b[1m23s\u001b[0m 235ms/step - loss: 1.4903 - masked_accuracy: 0.7081 - masked_loss: 1.4903 - val_loss: 1.4937 - val_masked_accuracy: 0.7022 - val_masked_loss: 1.4937\n",
      "Epoch 15/100\n",
      "\u001b[1m100/100\u001b[0m \u001b[32m━━━━━━━━━━━━━━━━━━━━\u001b[0m\u001b[37m\u001b[0m \u001b[1m23s\u001b[0m 225ms/step - loss: 1.4651 - masked_accuracy: 0.7130 - masked_loss: 1.4651 - val_loss: 1.4358 - val_masked_accuracy: 0.7198 - val_masked_loss: 1.4358\n",
      "Epoch 16/100\n",
      "\u001b[1m100/100\u001b[0m \u001b[32m━━━━━━━━━━━━━━━━━━━━\u001b[0m\u001b[37m\u001b[0m \u001b[1m22s\u001b[0m 223ms/step - loss: 1.2028 - masked_accuracy: 0.7481 - masked_loss: 1.2028 - val_loss: 1.3961 - val_masked_accuracy: 0.7244 - val_masked_loss: 1.3961\n",
      "Epoch 17/100\n",
      "\u001b[1m100/100\u001b[0m \u001b[32m━━━━━━━━━━━━━━━━━━━━\u001b[0m\u001b[37m\u001b[0m \u001b[1m26s\u001b[0m 262ms/step - loss: 1.2053 - masked_accuracy: 0.7488 - masked_loss: 1.2053 - val_loss: 1.3624 - val_masked_accuracy: 0.7239 - val_masked_loss: 1.3624\n",
      "Epoch 18/100\n",
      "\u001b[1m100/100\u001b[0m \u001b[32m━━━━━━━━━━━━━━━━━━━━\u001b[0m\u001b[37m\u001b[0m \u001b[1m32s\u001b[0m 325ms/step - loss: 1.2284 - masked_accuracy: 0.7419 - masked_loss: 1.2284 - val_loss: 1.3558 - val_masked_accuracy: 0.7308 - val_masked_loss: 1.3558\n",
      "Epoch 19/100\n",
      "\u001b[1m100/100\u001b[0m \u001b[32m━━━━━━━━━━━━━━━━━━━━\u001b[0m\u001b[37m\u001b[0m \u001b[1m38s\u001b[0m 381ms/step - loss: 1.2107 - masked_accuracy: 0.7455 - masked_loss: 1.2107 - val_loss: 1.3793 - val_masked_accuracy: 0.7285 - val_masked_loss: 1.3793\n",
      "Epoch 20/100\n",
      "\u001b[1m100/100\u001b[0m \u001b[32m━━━━━━━━━━━━━━━━━━━━\u001b[0m\u001b[37m\u001b[0m \u001b[1m35s\u001b[0m 350ms/step - loss: 1.1996 - masked_accuracy: 0.7465 - masked_loss: 1.1996 - val_loss: 1.3653 - val_masked_accuracy: 0.7223 - val_masked_loss: 1.3653\n",
      "Epoch 21/100\n",
      "\u001b[1m100/100\u001b[0m \u001b[32m━━━━━━━━━━━━━━━━━━━━\u001b[0m\u001b[37m\u001b[0m \u001b[1m29s\u001b[0m 288ms/step - loss: 1.1740 - masked_accuracy: 0.7507 - masked_loss: 1.1740 - val_loss: 1.3661 - val_masked_accuracy: 0.7235 - val_masked_loss: 1.3661\n"
     ]
    }
   ],
   "source": [
    "history = model.fit(\n",
    "    train_ds.repeat(), \n",
    "    epochs=100,\n",
    "    steps_per_epoch = 100,\n",
    "    validation_data=val_ds,\n",
    "    validation_steps = 20,\n",
    "    callbacks=[\n",
    "        tf.keras.callbacks.EarlyStopping(patience=3)])"
   ]
  },
  {
   "cell_type": "code",
   "execution_count": 62,
   "id": "bc80101f-56f5-4f07-ae65-7aee21f3d0d1",
   "metadata": {
    "scrolled": true
   },
   "outputs": [
    {
     "data": {
      "text/plain": [
       "4.872772693634033"
      ]
     },
     "execution_count": 62,
     "metadata": {},
     "output_type": "execute_result"
    }
   ],
   "source": [
    "history.history['loss'][0]"
   ]
  },
  {
   "cell_type": "code",
   "execution_count": 63,
   "id": "0f4f1c27-bb9d-4c8e-a8ec-8421e742019c",
   "metadata": {},
   "outputs": [
    {
     "data": {
      "text/plain": [
       "<matplotlib.legend.Legend at 0x1600b8490>"
      ]
     },
     "execution_count": 63,
     "metadata": {},
     "output_type": "execute_result"
    },
    {
     "data": {
      "image/png": "[encoded data removed]",
      "text/plain": [
       "<Figure size 640x480 with 1 Axes>"
      ]
     },
     "metadata": {},
     "output_type": "display_data"
    }
   ],
   "source": [
    "plt.plot(history.history['loss'], label='loss')\n",
    "plt.plot(history.history['val_loss'], label='val_loss')\n",
    "plt.ylim([0, max(plt.ylim())])\n",
    "plt.xlabel('Epoch #')\n",
    "plt.ylabel('CE/token')\n",
    "plt.legend()"
   ]
  },
  {
   "cell_type": "code",
   "execution_count": 64,
   "id": "b76add0d-5d9e-464b-8222-9addb6c2ce0d",
   "metadata": {},
   "outputs": [
    {
     "data": {
      "text/plain": [
       "<matplotlib.legend.Legend at 0x16da85070>"
      ]
     },
     "execution_count": 64,
     "metadata": {},
     "output_type": "execute_result"
    },
    {
     "data": {
      "image/png": "[encoded data removed]",
      "text/plain": [
       "<Figure size 640x480 with 1 Axes>"
      ]
     },
     "metadata": {},
     "output_type": "display_data"
    }
   ],
   "source": [
    "plt.plot(history.history['masked_accuracy'], label='accuracy')\n",
    "plt.plot(history.history['val_masked_accuracy'], label='val_accuracy')\n",
    "plt.ylim([0, max(plt.ylim())])\n",
    "plt.xlabel('Epoch #')\n",
    "plt.ylabel('CE/token')\n",
    "plt.legend()"
   ]
  },
  {
   "cell_type": "markdown",
   "id": "75565d09-1fed-4fb3-adf4-12571b33893b",
   "metadata": {},
   "source": [
    "## Translate "
   ]
  },
  {
   "cell_type": "markdown",
   "id": "f361b178-4e10-4b2b-a77b-146d78b70bba",
   "metadata": {},
   "source": [
    "Now, we will implement a function to execute the full text => text translation"
   ]
  },
  {
   "cell_type": "code",
   "execution_count": 65,
   "id": "59c784cc-dfbf-4d4e-b85d-5d4127470284",
   "metadata": {},
   "outputs": [],
   "source": [
    "@Translator.add_method\n",
    "def translate(self,\n",
    "              texts, *,\n",
    "              max_length=50,\n",
    "              temperature=0.0):\n",
    "  # Process the input texts\n",
    "  context = self.encoder.convert_input(texts)\n",
    "  batch_size = tf.shape(texts)[0]\n",
    "\n",
    "  # Setup the loop inputs\n",
    "  tokens = []\n",
    "  attention_weights = []\n",
    "  next_token, done, state = self.decoder.get_initial_state(context)\n",
    "\n",
    "  for _ in range(max_length):\n",
    "    # Generate the next token\n",
    "    next_token, done, state = self.decoder.get_next_token(\n",
    "        context, next_token, done,  state, temperature)\n",
    "\n",
    "    # Collect the generated tokens\n",
    "    tokens.append(next_token)\n",
    "    attention_weights.append(self.decoder.last_attention_weights)\n",
    "\n",
    "    if tf.executing_eagerly() and tf.reduce_all(done):\n",
    "      break\n",
    "\n",
    "  # Stack the lists of tokens and attention weights.\n",
    "  tokens = tf.concat(tokens, axis=-1)   # t*[(batch 1)] -> (batch, t)\n",
    "  self.last_attention_weights = tf.concat(attention_weights, axis=1)  # t*[(batch 1 s)] -> (batch, t s)\n",
    "\n",
    "  result = self.decoder.tokens_to_text(tokens)\n",
    "  return result"
   ]
  },
  {
   "cell_type": "code",
   "execution_count": 66,
   "id": "e27894d0-eab0-4c47-83b0-ad4b22c63c0d",
   "metadata": {},
   "outputs": [
    {
     "name": "stdout",
     "output_type": "stream",
     "text": [
      "is running!!\n"
     ]
    },
    {
     "data": {
      "text/plain": [
       "'is he still home ? '"
      ]
     },
     "execution_count": 66,
     "metadata": {},
     "output_type": "execute_result"
    }
   ],
   "source": [
    "result = model.translate(['¿Todavía está en casa?']) # Are you still home\n",
    "result[0].numpy().decode()"
   ]
  },
  {
   "cell_type": "code",
   "execution_count": 51,
   "id": "9e79559c-126d-4ad3-b853-656376fa3da2",
   "metadata": {},
   "outputs": [],
   "source": [
    "#@title\n",
    "@Translator.add_method\n",
    "def plot_attention(self, text, **kwargs):\n",
    "  assert isinstance(text, str)\n",
    "  output = self.translate([text], **kwargs)\n",
    "  output = output[0].numpy().decode()\n",
    "\n",
    "  attention = self.last_attention_weights[0]\n",
    "\n",
    "  context = tf_lower_and_split_punct(text)\n",
    "  context = context.numpy().decode().split()\n",
    "\n",
    "  output = tf_lower_and_split_punct(output)\n",
    "  output = output.numpy().decode().split()[1:]\n",
    "\n",
    "  fig = plt.figure(figsize=(10, 10))\n",
    "  ax = fig.add_subplot(1, 1, 1)\n",
    "\n",
    "  ax.matshow(attention, cmap='viridis', vmin=0.0)\n",
    "\n",
    "  fontdict = {'fontsize': 14}\n",
    "\n",
    "  ax.set_xticklabels([''] + context, fontdict=fontdict, rotation=90)\n",
    "  ax.set_yticklabels([''] + output, fontdict=fontdict)\n",
    "\n",
    "  ax.xaxis.set_major_locator(ticker.MultipleLocator(1))\n",
    "  ax.yaxis.set_major_locator(ticker.MultipleLocator(1))\n",
    "\n",
    "  ax.set_xlabel('Input text')\n",
    "  ax.set_ylabel('Output text')"
   ]
  },
  {
   "cell_type": "code",
   "execution_count": 52,
   "id": "496da721-8ea5-4b07-a3d6-2c8d0b9678fd",
   "metadata": {},
   "outputs": [
    {
     "name": "stdout",
     "output_type": "stream",
     "text": [
      "is running!!\n"
     ]
    },
    {
     "name": "stderr",
     "output_type": "stream",
     "text": [
      "/var/folders/qj/_xr448610yg3dn_k91tss4s80000gn/T/ipykernel_2938/3355722706.py:23: UserWarning: set_ticklabels() should only be used with a fixed number of ticks, i.e. after set_ticks() or using a FixedLocator.\n",
      "  ax.set_xticklabels([''] + context, fontdict=fontdict, rotation=90)\n",
      "/var/folders/qj/_xr448610yg3dn_k91tss4s80000gn/T/ipykernel_2938/3355722706.py:24: UserWarning: set_ticklabels() should only be used with a fixed number of ticks, i.e. after set_ticks() or using a FixedLocator.\n",
      "  ax.set_yticklabels([''] + output, fontdict=fontdict)\n"
     ]
    },
    {
     "data": {
      "image/png": "[encoded data removed]",
      "text/plain": [
       "<Figure size 1000x1000 with 1 Axes>"
      ]
     },
     "metadata": {},
     "output_type": "display_data"
    }
   ],
   "source": [
    "model.plot_attention('¿Todavía está en casa?') # Are you still home"
   ]
  },
  {
   "cell_type": "code",
   "execution_count": 53,
   "id": "355dced6-daa5-43b3-b914-a190ccc76fc3",
   "metadata": {},
   "outputs": [
    {
     "name": "stderr",
     "output_type": "stream",
     "text": [
      "/opt/anaconda3/envs/sequence-to-sequence-model/lib/python3.9/site-packages/keras/src/layers/layer.py:932: UserWarning: Layer 'cross_attention_2' (of type CrossAttention) was passed an input with a mask attached to it. However, this layer does not support masking and will therefore destroy the mask information. Downstream layers will not see the mask.\n",
      "  warnings.warn(\n",
      "/opt/anaconda3/envs/sequence-to-sequence-model/lib/python3.9/site-packages/keras/src/layers/layer.py:932: UserWarning: Layer 'decoder_1' (of type Decoder) was passed an input with a mask attached to it. However, this layer does not support masking and will therefore destroy the mask information. Downstream layers will not see the mask.\n",
      "  warnings.warn(\n"
     ]
    },
    {
     "name": "stdout",
     "output_type": "stream",
     "text": [
      "is running!!\n",
      "CPU times: user 353 ms, sys: 21.7 ms, total: 374 ms\n",
      "Wall time: 127 ms\n"
     ]
    },
    {
     "name": "stderr",
     "output_type": "stream",
     "text": [
      "/var/folders/qj/_xr448610yg3dn_k91tss4s80000gn/T/ipykernel_2938/3355722706.py:23: UserWarning: set_ticklabels() should only be used with a fixed number of ticks, i.e. after set_ticks() or using a FixedLocator.\n",
      "  ax.set_xticklabels([''] + context, fontdict=fontdict, rotation=90)\n",
      "/var/folders/qj/_xr448610yg3dn_k91tss4s80000gn/T/ipykernel_2938/3355722706.py:24: UserWarning: set_ticklabels() should only be used with a fixed number of ticks, i.e. after set_ticks() or using a FixedLocator.\n",
      "  ax.set_yticklabels([''] + output, fontdict=fontdict)\n"
     ]
    },
    {
     "data": {
      "image/png": "[encoded data removed]",
      "text/plain": [
       "<Figure size 1000x1000 with 1 Axes>"
      ]
     },
     "metadata": {},
     "output_type": "display_data"
    }
   ],
   "source": [
    "%%time\n",
    "# This is my life.\n",
    "model.plot_attention('Esta es mi vida.')"
   ]
  },
  {
   "cell_type": "code",
   "execution_count": 54,
   "id": "d27351e0-4ce6-41e5-8783-4af7ec5dd164",
   "metadata": {},
   "outputs": [
    {
     "name": "stdout",
     "output_type": "stream",
     "text": [
      "Expected output:\n",
      " If you want to sound like a native speaker, you must be willing to\n",
      "practice saying the same sentence over and over in the same way that\n",
      "banjo players practice the same phrase over and over until they can\n",
      "play it correctly and at the desired tempo.\n"
     ]
    }
   ],
   "source": [
    "long_text = context_raw[-1]\n",
    "\n",
    "import textwrap\n",
    "print('Expected output:\\n', '\\n'.join(textwrap.wrap(target_raw[-1])))"
   ]
  },
  {
   "cell_type": "code",
   "execution_count": 55,
   "id": "1f7af150-caa6-416a-be15-db2bc9d52673",
   "metadata": {},
   "outputs": [
    {
     "name": "stdout",
     "output_type": "stream",
     "text": [
      "is running!!\n"
     ]
    },
    {
     "name": "stderr",
     "output_type": "stream",
     "text": [
      "/opt/anaconda3/envs/sequence-to-sequence-model/lib/python3.9/site-packages/keras/src/layers/layer.py:932: UserWarning: Layer 'cross_attention_2' (of type CrossAttention) was passed an input with a mask attached to it. However, this layer does not support masking and will therefore destroy the mask information. Downstream layers will not see the mask.\n",
      "  warnings.warn(\n",
      "/opt/anaconda3/envs/sequence-to-sequence-model/lib/python3.9/site-packages/keras/src/layers/layer.py:932: UserWarning: Layer 'decoder_1' (of type Decoder) was passed an input with a mask attached to it. However, this layer does not support masking and will therefore destroy the mask information. Downstream layers will not see the mask.\n",
      "  warnings.warn(\n",
      "/var/folders/qj/_xr448610yg3dn_k91tss4s80000gn/T/ipykernel_2938/3355722706.py:23: UserWarning: set_ticklabels() should only be used with a fixed number of ticks, i.e. after set_ticks() or using a FixedLocator.\n",
      "  ax.set_xticklabels([''] + context, fontdict=fontdict, rotation=90)\n",
      "/var/folders/qj/_xr448610yg3dn_k91tss4s80000gn/T/ipykernel_2938/3355722706.py:24: UserWarning: set_ticklabels() should only be used with a fixed number of ticks, i.e. after set_ticks() or using a FixedLocator.\n",
      "  ax.set_yticklabels([''] + output, fontdict=fontdict)\n"
     ]
    },
    {
     "data": {
      "image/png": "[encoded data removed]",
      "text/plain": [
       "<Figure size 1000x1000 with 1 Axes>"
      ]
     },
     "metadata": {},
     "output_type": "display_data"
    }
   ],
   "source": [
    "model.plot_attention(long_text)"
   ]
  },
  {
   "cell_type": "code",
   "execution_count": 56,
   "id": "627fe835-119a-422e-b30d-a7bc2125c84b",
   "metadata": {},
   "outputs": [],
   "source": [
    "inputs = [\n",
    "    'Hace mucho frio aqui.', # \"It's really cold here.\"\n",
    "    'Esta es mi vida.', # \"This is my life.\"\n",
    "    'Su cuarto es un desastre.' # \"His room is a mess\"\n",
    "]"
   ]
  },
  {
   "cell_type": "code",
   "execution_count": 57,
   "id": "0a0fabd6-5126-4147-9316-66990c81f80c",
   "metadata": {},
   "outputs": [
    {
     "name": "stdout",
     "output_type": "stream",
     "text": [
      "is running!!\n",
      "its a cold here . \n",
      "is running!!\n",
      "this is my life . \n",
      "is running!!\n"
     ]
    },
    {
     "name": "stderr",
     "output_type": "stream",
     "text": [
      "/opt/anaconda3/envs/sequence-to-sequence-model/lib/python3.9/site-packages/keras/src/layers/layer.py:932: UserWarning: Layer 'cross_attention_2' (of type CrossAttention) was passed an input with a mask attached to it. However, this layer does not support masking and will therefore destroy the mask information. Downstream layers will not see the mask.\n",
      "  warnings.warn(\n",
      "/opt/anaconda3/envs/sequence-to-sequence-model/lib/python3.9/site-packages/keras/src/layers/layer.py:932: UserWarning: Layer 'decoder_1' (of type Decoder) was passed an input with a mask attached to it. However, this layer does not support masking and will therefore destroy the mask information. Downstream layers will not see the mask.\n",
      "  warnings.warn(\n"
     ]
    },
    {
     "name": "stdout",
     "output_type": "stream",
     "text": [
      "his room is a disaster . \n",
      "\n",
      "CPU times: user 269 ms, sys: 20.7 ms, total: 289 ms\n",
      "Wall time: 271 ms\n"
     ]
    }
   ],
   "source": [
    "%%time\n",
    "for t in inputs:\n",
    "  print(model.translate([t])[0].numpy().decode())\n",
    "\n",
    "print()"
   ]
  },
  {
   "cell_type": "code",
   "execution_count": 58,
   "id": "1792c8f4-01ad-4512-b0ab-44713c649b3d",
   "metadata": {},
   "outputs": [
    {
     "name": "stdout",
     "output_type": "stream",
     "text": [
      "is running!!\n",
      "its a cold here .  \n",
      "this is my life .  \n",
      "his room is a disaster . \n",
      "\n",
      "CPU times: user 100 ms, sys: 10.9 ms, total: 111 ms\n",
      "Wall time: 102 ms\n"
     ]
    }
   ],
   "source": [
    "%%time\n",
    "result = model.translate(inputs)\n",
    "\n",
    "print(result[0].numpy().decode())\n",
    "print(result[1].numpy().decode())\n",
    "print(result[2].numpy().decode())\n",
    "print()"
   ]
  },
  {
   "cell_type": "markdown",
   "id": "d35e5dd6-6537-46e5-945a-abb468c04f39",
   "metadata": {},
   "source": [
    "### Save the Model "
   ]
  },
  {
   "cell_type": "code",
   "execution_count": 59,
   "id": "008dafc3-b44a-4660-a3e1-ae6045a2f98d",
   "metadata": {},
   "outputs": [],
   "source": [
    "class Export(tf.Module):\n",
    "  def __init__(self, model):\n",
    "    self.model = model\n",
    "\n",
    "  @tf.function(input_signature=[tf.TensorSpec(dtype=tf.string, shape=[None])])\n",
    "  def translate(self, inputs):\n",
    "    return self.model.translate(inputs)"
   ]
  },
  {
   "cell_type": "code",
   "execution_count": 60,
   "id": "190c1f72-9d3f-4d97-b202-ab24e7e72ce2",
   "metadata": {},
   "outputs": [],
   "source": [
    "export = Export(model)"
   ]
  },
  {
   "cell_type": "code",
   "execution_count": 67,
   "id": "5319d0bb-ddbd-48f3-a351-4d2d10e0a957",
   "metadata": {
    "scrolled": true
   },
   "outputs": [
    {
     "name": "stdout",
     "output_type": "stream",
     "text": [
      "its a cold here .                                             \n",
      "this is my life .                                             \n",
      "his room is a disaster .                                            \n",
      "\n",
      "CPU times: user 106 ms, sys: 84 ms, total: 190 ms\n",
      "Wall time: 212 ms\n"
     ]
    }
   ],
   "source": [
    "%%time\n",
    "result = export.translate(inputs)\n",
    "\n",
    "print(result[0].numpy().decode())\n",
    "print(result[1].numpy().decode())\n",
    "print(result[2].numpy().decode())\n",
    "print()"
   ]
  },
  {
   "cell_type": "markdown",
   "id": "537f5872-657c-4b45-a527-cd8264e33d24",
   "metadata": {},
   "source": [
    "SUMMARY - Although, the model is surely perfoming good, It could have done much better If a GPU was used. Unfortunately tensorflow-metal had some issues running with tensorflow-text, so i temporarily switched to CPU, but will try to look into the problem sometime later."
   ]
  }
 ],
 "metadata": {
  "@deathbeds/jupyterlab-fonts": {
   "styles": {
    ":root": {
     "--jp-content-line-height": "1.5"
    }
   }
  },
  "kernelspec": {
   "display_name": "sequence-to-sequence-model",
   "language": "python",
   "name": "sequence-to-sequence-model"
  },
  "language_info": {
   "codemirror_mode": {
    "name": "ipython",
    "version": 3
   },
   "file_extension": ".py",
   "mimetype": "text/x-python",
   "name": "python",
   "nbconvert_exporter": "python",
   "pygments_lexer": "ipython3",
   "version": "3.9.20"
  }
 },
 "nbformat": 4,
 "nbformat_minor": 5
}
